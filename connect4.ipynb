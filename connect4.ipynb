import numpy as np
import random #for starting player
import math
import time #for sleep

from IPython.display import clear_output as clear #seems to be buggy unfortunately

def turn45clockwise(array): #creates the /-Diag of an NxM array or list
    a = array
    diag = []
    for i in range(len(a)):
        diag.append([])
        for j in range(i+1):
            if len(a)>j and len(a[j])>(i-j):  
                diag[i].append(a[j][i-j])
    for i in reversed(range(len(a[0])-1)):
        diag.append([])
        for j in reversed(range(i+1)):  
            if len(a)>(j) and len(a[j])>(i-j):    
                diag[len(a)+len(a[0])-i-2].append(a[-j-1][-i+j-1])
    
    return diag


class Game_Board:
    def __init__(self):
        self.game_board = np.zeros((6,7), dtype = int)

    def pr_board(self):
        for row in self.game_board:
            print('[' + ', '.join(repr(elem) for elem in row) +']')
        print(' ' + '  '.join(repr(i) for i in range(self.game_board.shape[1])))

    def pr_board_playerview(self):
        for row in self.game_board:
            print('||' + ' | '.join(repr(elem).replace("0"," ").replace("1", "X").replace("2", "O") for elem in row) +'||')
        print('  ' + '   '.join(repr(i) for i in range(self.game_board.shape[1])))

    def occupied(self, column):
        if (self.game_board[0][column] == 0):
            return 0
        else:
            return 1
    
    def full(self):
        for i in range(len(self.game_board)):
            if not self.occupied(i):
                return 0
        else:
            return 1

    def win(self):
        if (self.win_row() or self.win_column() or self.win_diag_upleft() or self.win_diag_upright()):    
            return 1
        else:
            return 0

    def win_row(self):
        cnt=0
        tmp=0
        for row in self.game_board:
            for cell in row:
                if cell == 0:
                    cnt=0
                    tmp=0
                else:
                    if cell==tmp:
                        cnt += 1
                        if cnt==4:
                            return 1
                    else:
                        cnt=1
                        tmp=cell
        return 0

    def win_column(self):
        cnt=0
        tmp=0
        transposedArray = np.swapaxes(self.game_board,0,1)
        for row in transposedArray:
            for cell in row:
                if cell == 0:
                    cnt=0
                    tmp=0
                else:
                    if cell==tmp:
                        cnt += 1
                        if cnt==4:
                            return 1
                    else:
                        cnt=1
                        tmp=cell
        return 0

    def win_diag_upleft(self): #diag \
        diag = turn45clockwise(np.fliplr(self.game_board))
        for row in diag:
            cnt=0
            tmp=0
            for cell in row:
                if cell == 0:
                    cnt=0
                    tmp=0
                else:
                    if cell==tmp:
                        cnt += 1
                        if cnt==4:
                            return 1
                    else:
                        cnt=1
                        tmp=cell
        return 0

    def win_diag_upright(self): #diag \
        diag = turn45clockwise(self.game_board)
        for row in diag:
            cnt=0
            tmp=0
            for cell in row:
                if cell == 0:
                    cnt=0
                    tmp=0
                else:
                    if cell==tmp:
                        cnt += 1
                        if cnt==4:
                            return 1
                    else:
                        cnt=1
                        tmp=cell
        return 0

class Game:
    def __init__(self):
        self.playername = [str(input("Name Player 1?"))]
        self.playername.append(str(input("Name Player 2?")))
        if len(self.playername[0]) == 0 :
            self.playername[0] = "Player 1"
        if len(self.playername[1]) == 0 :
            self.playername[1] = "Player 2"
        #random.seed(42)
        self.turn_of = math.floor(random.random()*2)
        self.board = Game_Board()
        print("{}, {} - have fun!".format(self.playername[0],self.playername[1]))
        time.sleep(1.5)
        self.turn() #starts the game

    def turn(self):
        #clear(wait="true") #buggy, sends "" as input in enter_column()
        #time.sleep(0.2)
        print("Do your turn {}!".format(self.playername[self.turn_of]))
        print()
        self.board.pr_board_playerview()
        print()
        while(1):
            column = self.enter_column()
            print("You selected column {}".format(column))
            if (self.board.occupied(column)):
                print(self.board.pr_board_playerview())
                print("Selected field is already occupied. Please select another")
                continue
            break
        self.place(column)
        self.check_gameover()            
        
    def enter_column(self):
        while (1):
            try:
                column = int(input("Select column (0-6)! "))
                if (column <0 or column >6):
                    raise ValueError()
            except ValueError:
                print("Error, wrong type, please write only 0-6")
                continue
            break
        return column

    def place(self, column):
        tempT = np.fliplr(self.board.game_board.T) #first transpose to make it not nested anymore, then reverse to iterate over
        for index, cell in enumerate(tempT[column]):
            if cell==0:
                tempT[column][index]=(self.turn_of+1)
                break

    def check_gameover(self):
        if (self.board.win()):
            self.board.pr_board_playerview()
            print("Game is over,", self.playername[self.turn_of], "won!")
        elif (self.board.full()):
            self.board.pr_board_playerview()
            print("Game ended in a tie")
        else:
            self.nextturn()

    def nextturn(self):
        self.turn_of= (self.turn_of+1) % 2
        self.turn()           

g = Game()
