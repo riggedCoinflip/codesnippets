import cmath
import numpy as np

def iterate(complex):
    cnt=0
    c=complex
    while cnt<100 and abs(complex)<2:
        complex = complex**2+c
        cnt += 1
    return cnt

no_of_points=2**4+1
real_mid=0
imagi_mid=0
dist=2

real_min=real_mid-dist
real_max=real_mid+dist

imagi_min=imagi_mid-dist
imagi_max=imagi_mid+dist

a = np.linspace(real_min,real_max,no_of_points)
#print(a)
bi = np.linspace(imagi_min,imagi_max,no_of_points)
#print(bi)
complex_grid = np.zeros((no_of_points, no_of_points), dtype=np.complex_)
mandelbrot = np.zeros((no_of_points, no_of_points), dtype=int)

for cnt1, imaginary in enumerate(a):
    for cnt2, real in enumerate(bi):
        complex_grid[cnt1][cnt2] = complex(real, imaginary)
        mandelbrot[cnt1][cnt2] = iterate(complex(real, imaginary))

#print(complex_grid)
print(mandelbrot)
