import random
import math
import string
import re

class Game:
    def __init__(self):
        letters = string.ascii_uppercase
        self.highscores = [[], []]
        for i in range(10):
            self.highscores[0].append(''.join(random.choice(letters) for i in range(3)))
            self.highscores[1].append((10-i)*0)
        print (self.highscores)

        self.max_val: int
        self.tries: int
        self.searched_value: int

        self.start()

    def start(self):
        self.tries = 0
        self.max_val = self.input_maxval()
        self.searched_value = math.floor(random.random()*self.max_val)+1
        self.guess()

    def input_maxval(self):
        while (1):
            try:
                max_val = int(input("Insert Max Value (max 1,000,000)"))
                if (max_val <0 or max_val >1000000):
                    raise ValueError()
            except ValueError:
                print("Error, wrong type, please only write values up to 1,000,000")
                continue
            break
        return max_val

    def guess(self):
        self.tries += 1
        guess = self.input_guess()
        self.turn_end(guess)

    def input_guess(self):
        while (1):
            try:
                guess = int(input("Insert your guess (Max Value ={})".format(self.max_val)))
                if (guess <0 or guess > self.max_val):
                    raise ValueError()
            except ValueError:
                print("Error, wrong type, please only write values up to", self.max_val)
                continue
            break
        return guess

    def turn_end(self, guess):
        if guess==self.searched_value:
            self.you_win()
        else:
            if guess<self.searched_value:
                print("Higher")
            else:
                print("Lower")
            self.guess()

    def you_win(self):
        print("Searched Value was", self.max_val)
        print("Congratulations! You win!")
        score = math.floor(self.max_val/self.tries)
        print("Your score:", score)
        if score>self.highscores[1][-1]:
            name = self.input_name()
            self.highscores = newRecord(self.highscores, name, score)
            print(self.highscores)

    def input_name(self):
        while (1):
            try:
                name = str(input("You got a highscore! Enter Name (max 3 letters)"))
                if len(name)>3:
                    raise ValueError()
                else:
                    name =name.ljust(3)
                    result = re.match('[a-zA-Z ]+', name)
                    if not bool(result):
                        raise ValueError()
            except ValueError:
                print("Error, please only write up to 3 Letters/Whitespaces")
                continue
            break
        return name.upper()


def newRecord(highscorelist, name, score):
    for cnt, elem in enumerate(highscorelist[1]):
        if(score>elem):
            highscorelist[0].insert(cnt, name.upper())
            highscorelist[1].insert(cnt, score)
            highscorelist[0].pop(10)
            highscorelist[1].pop(10)
            break
    return highscorelist


g = Game()
