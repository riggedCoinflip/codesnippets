import numpy as np
import random
import math

class Game_Board:
    def __init__(self):
        self.game_board = np.zeros((3,3), dtype = int)

    def pr_board(self):
        print('   ' + '  '.join(repr(i) for i in range(self.game_board.shape[0])))
        for count, row in enumerate(self.game_board): #self.game_board:
            print(count, '[' + ', '.join(repr(elem) for elem in row) +']')

    def pr_board_playerview(self):
        print('   ' + '   '.join(repr(i).replace("0","A").replace("1","B").replace("2","C") for i in range(self.game_board.shape[0])))
        for count, row in enumerate(self.game_board): #self.game_board:
            print(str(count), '[' + ' | '.join(repr(elem) for elem in row).replace("0"," ").replace("1","X").replace("2","O") +']')

    def occupied(self, row, column):
        if (self.game_board[row][column] == 0):
            return 0
        return 1

    def full(self):
        for row in range(len(self.game_board)):
            for column in range(len(self.game_board[row])):
                if (self.occupied(row, column) == 0):
                    return 0
        return 1
    
    def win(self):
        if (self.win_row() or self.win_column() or self.win_diag_upleft() or self.win_diag_upright()):    
            return 1
        else:
            return 0

    def win_row(self):
        for row in self.game_board:
            tempCell = row[0]
            if tempCell != 0:
                for cell in row:
                    if cell == tempCell:
                        continue
                    else:
                        break
                else:
                    return 1
        return 0

    def win_column(self):
        transposedArray = np.swapaxes(self.game_board,0,1)
        for row in transposedArray:
            tempCell = row[0]
            if tempCell != 0:
                for cell in row:
                    if cell == tempCell:
                        continue
                    else:
                        break
                else:
                    return 1
        return 0

    def win_diag_upleft(self): #diag \
        diag = self.game_board.diagonal()
        tempCell = diag[0]
        if tempCell != 0:
            for cell in diag:
                if cell == tempCell:
                    continue
                else:
                    break
            else:
                return 1
        return 0

    def win_diag_upright(self): #diag /
        diag = np.fliplr(self.game_board).diagonal()
        tempCell = diag[0]
        if tempCell != 0:
            for cell in diag:
                if cell == tempCell:
                    continue
                else:
                    break
            else:
                return 1
        return 0

class Game:
    def __init__(self):
        self.playername = [str(input("Name Player 1?"))]
        self.playername.append(str(input("Name Player 2?")))
        if len(self.playername[0]) == 0 :
            self.playername[0] = "Player 1"
        if len(self.playername[1]) == 0 :
            self.playername[1] = "Player 2"
        #random.seed(42)
        self.turn_of = math.floor(random.random()*2)
        self.board = Game_Board()

        print(self.board.pr_board_playerview())
        self.turn() #starts the game

    def turn(self):
        print("It's your turn,", self.playername[self.turn_of], "!")
        while(1):
            row = self.enter_row()
            column = self.enter_column()
            print("You selected cell {}{}".format(row,str(column).replace("0","A").replace("1","B").replace("2","C")))
            if (self.board.occupied(row, column)):
                print(self.board.pr_board_playerview())
                print("Selected field is already occupied. Please select another")
                continue
            break
        self.place(row, column)
        self.check_gameover()            
                    
    def enter_row(self):
        while (1):
            try:
                row = int(input("Select row (0-2)! "))
                if (row <0 or row >2):
                    raise ValueError()
            except ValueError:
                print("Error, wrong type, please write only '0','1' or '2'")
                continue
            break
        return row

    def enter_column(self):
        while (1):
            try:
                column = int(input("Select column (A-C or 0-2)! ").replace("A","0").replace("a","0").replace("B","1").replace("b","1").replace("C","2").replace("c","2"))
                if (column <0 or column >2):
                    raise ValueError()
            except ValueError:
                print("Error, wrong type, please write only 'A','B' or 'C' or 0-2")
                continue
            break
        return column

    def place(self, row, column):
        self.board.game_board[row][column]=(self.turn_of+1)

    def check_gameover(self):
        self.board.pr_board_playerview()
        if (self.board.win()):
            print("Game is over,", self.playername[self.turn_of], "won!")
        elif (self.board.full()):
            print("Game ended in a tie")
        else:
            self.nextturn()

    def nextturn(self):
        self.turn_of= (self.turn_of+1) % 2
        self.turn()

gs1 = Game()
